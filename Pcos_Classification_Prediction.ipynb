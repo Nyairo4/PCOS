{
 "cells": [
  {
   "cell_type": "code",
   "execution_count": 40,
   "metadata": {},
   "outputs": [],
   "source": [
    "import pandas as pd\n",
    "import numpy as np\n",
    "import seaborn as sns\n",
    "import matplotlib.pyplot as plt\n",
    "\n",
    "from pylab import rcParams\n",
    "from skimpy import clean_columns\n",
    "\n",
    "rcParams[\"figure.figsize\"] = (12,12)\n",
    "%matplotlib inline\n",
    "\n",
    "sns.set()"
   ]
  },
  {
   "cell_type": "code",
   "execution_count": 2,
   "metadata": {},
   "outputs": [],
   "source": [
    "# Load data\n",
    "fert = pd.read_csv(\"pcos_fertility.csv\")\n",
    "infert = pd.read_excel(\"pcos_no_infertility.xlsx\", sheet_name=\"Full_new\")"
   ]
  },
  {
   "cell_type": "code",
   "execution_count": 3,
   "metadata": {},
   "outputs": [
    {
     "data": {
      "text/html": [
       "<div>\n",
       "<style scoped>\n",
       "    .dataframe tbody tr th:only-of-type {\n",
       "        vertical-align: middle;\n",
       "    }\n",
       "\n",
       "    .dataframe tbody tr th {\n",
       "        vertical-align: top;\n",
       "    }\n",
       "\n",
       "    .dataframe thead th {\n",
       "        text-align: right;\n",
       "    }\n",
       "</style>\n",
       "<table border=\"1\" class=\"dataframe\">\n",
       "  <thead>\n",
       "    <tr style=\"text-align: right;\">\n",
       "      <th></th>\n",
       "      <th>Sl. No</th>\n",
       "      <th>Patient File No.</th>\n",
       "      <th>PCOS (Y/N)</th>\n",
       "      <th>I   beta-HCG(mIU/mL)</th>\n",
       "      <th>II    beta-HCG(mIU/mL)</th>\n",
       "      <th>AMH(ng/mL)</th>\n",
       "    </tr>\n",
       "  </thead>\n",
       "  <tbody>\n",
       "    <tr>\n",
       "      <th>0</th>\n",
       "      <td>1</td>\n",
       "      <td>10001</td>\n",
       "      <td>0</td>\n",
       "      <td>1.99</td>\n",
       "      <td>1.99</td>\n",
       "      <td>2.07</td>\n",
       "    </tr>\n",
       "    <tr>\n",
       "      <th>1</th>\n",
       "      <td>2</td>\n",
       "      <td>10002</td>\n",
       "      <td>0</td>\n",
       "      <td>60.80</td>\n",
       "      <td>1.99</td>\n",
       "      <td>1.53</td>\n",
       "    </tr>\n",
       "    <tr>\n",
       "      <th>2</th>\n",
       "      <td>3</td>\n",
       "      <td>10003</td>\n",
       "      <td>1</td>\n",
       "      <td>494.08</td>\n",
       "      <td>494.08</td>\n",
       "      <td>6.63</td>\n",
       "    </tr>\n",
       "    <tr>\n",
       "      <th>3</th>\n",
       "      <td>4</td>\n",
       "      <td>10004</td>\n",
       "      <td>0</td>\n",
       "      <td>1.99</td>\n",
       "      <td>1.99</td>\n",
       "      <td>1.22</td>\n",
       "    </tr>\n",
       "    <tr>\n",
       "      <th>4</th>\n",
       "      <td>5</td>\n",
       "      <td>10005</td>\n",
       "      <td>0</td>\n",
       "      <td>801.45</td>\n",
       "      <td>801.45</td>\n",
       "      <td>2.26</td>\n",
       "    </tr>\n",
       "  </tbody>\n",
       "</table>\n",
       "</div>"
      ],
      "text/plain": [
       "   Sl. No  Patient File No.  PCOS (Y/N)    I   beta-HCG(mIU/mL)  \\\n",
       "0       1             10001           0                    1.99   \n",
       "1       2             10002           0                   60.80   \n",
       "2       3             10003           1                  494.08   \n",
       "3       4             10004           0                    1.99   \n",
       "4       5             10005           0                  801.45   \n",
       "\n",
       "   II    beta-HCG(mIU/mL) AMH(ng/mL)  \n",
       "0                    1.99       2.07  \n",
       "1                    1.99       1.53  \n",
       "2                  494.08       6.63  \n",
       "3                    1.99       1.22  \n",
       "4                  801.45       2.26  "
      ]
     },
     "execution_count": 3,
     "metadata": {},
     "output_type": "execute_result"
    }
   ],
   "source": [
    "fert.head()"
   ]
  },
  {
   "cell_type": "code",
   "execution_count": 4,
   "metadata": {},
   "outputs": [
    {
     "name": "stdout",
     "output_type": "stream",
     "text": [
      "<class 'pandas.core.frame.DataFrame'>\n",
      "RangeIndex: 541 entries, 0 to 540\n",
      "Data columns (total 6 columns):\n",
      " #   Column                  Non-Null Count  Dtype  \n",
      "---  ------                  --------------  -----  \n",
      " 0   Sl. No                  541 non-null    int64  \n",
      " 1   Patient File No.        541 non-null    int64  \n",
      " 2   PCOS (Y/N)              541 non-null    int64  \n",
      " 3     I   beta-HCG(mIU/mL)  541 non-null    float64\n",
      " 4   II    beta-HCG(mIU/mL)  541 non-null    float64\n",
      " 5   AMH(ng/mL)              541 non-null    object \n",
      "dtypes: float64(2), int64(3), object(1)\n",
      "memory usage: 25.5+ KB\n"
     ]
    }
   ],
   "source": [
    "fert.info()"
   ]
  },
  {
   "cell_type": "code",
   "execution_count": 5,
   "metadata": {},
   "outputs": [
    {
     "data": {
      "text/html": [
       "<div>\n",
       "<style scoped>\n",
       "    .dataframe tbody tr th:only-of-type {\n",
       "        vertical-align: middle;\n",
       "    }\n",
       "\n",
       "    .dataframe tbody tr th {\n",
       "        vertical-align: top;\n",
       "    }\n",
       "\n",
       "    .dataframe thead th {\n",
       "        text-align: right;\n",
       "    }\n",
       "</style>\n",
       "<table border=\"1\" class=\"dataframe\">\n",
       "  <thead>\n",
       "    <tr style=\"text-align: right;\">\n",
       "      <th></th>\n",
       "      <th>Sl. No</th>\n",
       "      <th>Patient File No.</th>\n",
       "      <th>PCOS (Y/N)</th>\n",
       "      <th>Age (yrs)</th>\n",
       "      <th>Weight (Kg)</th>\n",
       "      <th>Height(Cm)</th>\n",
       "      <th>BMI</th>\n",
       "      <th>Blood Group</th>\n",
       "      <th>Pulse rate(bpm)</th>\n",
       "      <th>RR (breaths/min)</th>\n",
       "      <th>...</th>\n",
       "      <th>Fast food (Y/N)</th>\n",
       "      <th>Reg.Exercise(Y/N)</th>\n",
       "      <th>BP _Systolic (mmHg)</th>\n",
       "      <th>BP _Diastolic (mmHg)</th>\n",
       "      <th>Follicle No. (L)</th>\n",
       "      <th>Follicle No. (R)</th>\n",
       "      <th>Avg. F size (L) (mm)</th>\n",
       "      <th>Avg. F size (R) (mm)</th>\n",
       "      <th>Endometrium (mm)</th>\n",
       "      <th>Unnamed: 44</th>\n",
       "    </tr>\n",
       "  </thead>\n",
       "  <tbody>\n",
       "    <tr>\n",
       "      <th>0</th>\n",
       "      <td>1</td>\n",
       "      <td>1</td>\n",
       "      <td>0</td>\n",
       "      <td>28</td>\n",
       "      <td>44.6</td>\n",
       "      <td>152.0</td>\n",
       "      <td>19.300000</td>\n",
       "      <td>15</td>\n",
       "      <td>78</td>\n",
       "      <td>22</td>\n",
       "      <td>...</td>\n",
       "      <td>1.0</td>\n",
       "      <td>0</td>\n",
       "      <td>110</td>\n",
       "      <td>80</td>\n",
       "      <td>3</td>\n",
       "      <td>3</td>\n",
       "      <td>18.0</td>\n",
       "      <td>18.0</td>\n",
       "      <td>8.5</td>\n",
       "      <td>NaN</td>\n",
       "    </tr>\n",
       "    <tr>\n",
       "      <th>1</th>\n",
       "      <td>2</td>\n",
       "      <td>2</td>\n",
       "      <td>0</td>\n",
       "      <td>36</td>\n",
       "      <td>65.0</td>\n",
       "      <td>161.5</td>\n",
       "      <td>24.921163</td>\n",
       "      <td>15</td>\n",
       "      <td>74</td>\n",
       "      <td>20</td>\n",
       "      <td>...</td>\n",
       "      <td>0.0</td>\n",
       "      <td>0</td>\n",
       "      <td>120</td>\n",
       "      <td>70</td>\n",
       "      <td>3</td>\n",
       "      <td>5</td>\n",
       "      <td>15.0</td>\n",
       "      <td>14.0</td>\n",
       "      <td>3.7</td>\n",
       "      <td>NaN</td>\n",
       "    </tr>\n",
       "    <tr>\n",
       "      <th>2</th>\n",
       "      <td>3</td>\n",
       "      <td>3</td>\n",
       "      <td>1</td>\n",
       "      <td>33</td>\n",
       "      <td>68.8</td>\n",
       "      <td>165.0</td>\n",
       "      <td>25.270891</td>\n",
       "      <td>11</td>\n",
       "      <td>72</td>\n",
       "      <td>18</td>\n",
       "      <td>...</td>\n",
       "      <td>1.0</td>\n",
       "      <td>0</td>\n",
       "      <td>120</td>\n",
       "      <td>80</td>\n",
       "      <td>13</td>\n",
       "      <td>15</td>\n",
       "      <td>18.0</td>\n",
       "      <td>20.0</td>\n",
       "      <td>10.0</td>\n",
       "      <td>NaN</td>\n",
       "    </tr>\n",
       "    <tr>\n",
       "      <th>3</th>\n",
       "      <td>4</td>\n",
       "      <td>4</td>\n",
       "      <td>0</td>\n",
       "      <td>37</td>\n",
       "      <td>65.0</td>\n",
       "      <td>148.0</td>\n",
       "      <td>29.674945</td>\n",
       "      <td>13</td>\n",
       "      <td>72</td>\n",
       "      <td>20</td>\n",
       "      <td>...</td>\n",
       "      <td>0.0</td>\n",
       "      <td>0</td>\n",
       "      <td>120</td>\n",
       "      <td>70</td>\n",
       "      <td>2</td>\n",
       "      <td>2</td>\n",
       "      <td>15.0</td>\n",
       "      <td>14.0</td>\n",
       "      <td>7.5</td>\n",
       "      <td>NaN</td>\n",
       "    </tr>\n",
       "    <tr>\n",
       "      <th>4</th>\n",
       "      <td>5</td>\n",
       "      <td>5</td>\n",
       "      <td>0</td>\n",
       "      <td>25</td>\n",
       "      <td>52.0</td>\n",
       "      <td>161.0</td>\n",
       "      <td>20.060954</td>\n",
       "      <td>11</td>\n",
       "      <td>72</td>\n",
       "      <td>18</td>\n",
       "      <td>...</td>\n",
       "      <td>0.0</td>\n",
       "      <td>0</td>\n",
       "      <td>120</td>\n",
       "      <td>80</td>\n",
       "      <td>3</td>\n",
       "      <td>4</td>\n",
       "      <td>16.0</td>\n",
       "      <td>14.0</td>\n",
       "      <td>7.0</td>\n",
       "      <td>NaN</td>\n",
       "    </tr>\n",
       "  </tbody>\n",
       "</table>\n",
       "<p>5 rows × 45 columns</p>\n",
       "</div>"
      ],
      "text/plain": [
       "   Sl. No  Patient File No.  PCOS (Y/N)   Age (yrs)  Weight (Kg)  Height(Cm)   \\\n",
       "0       1                 1           0          28         44.6        152.0   \n",
       "1       2                 2           0          36         65.0        161.5   \n",
       "2       3                 3           1          33         68.8        165.0   \n",
       "3       4                 4           0          37         65.0        148.0   \n",
       "4       5                 5           0          25         52.0        161.0   \n",
       "\n",
       "         BMI  Blood Group  Pulse rate(bpm)   RR (breaths/min)  ...  \\\n",
       "0  19.300000           15                78                22  ...   \n",
       "1  24.921163           15                74                20  ...   \n",
       "2  25.270891           11                72                18  ...   \n",
       "3  29.674945           13                72                20  ...   \n",
       "4  20.060954           11                72                18  ...   \n",
       "\n",
       "   Fast food (Y/N)  Reg.Exercise(Y/N)  BP _Systolic (mmHg)  \\\n",
       "0              1.0                  0                  110   \n",
       "1              0.0                  0                  120   \n",
       "2              1.0                  0                  120   \n",
       "3              0.0                  0                  120   \n",
       "4              0.0                  0                  120   \n",
       "\n",
       "   BP _Diastolic (mmHg)  Follicle No. (L)  Follicle No. (R)  \\\n",
       "0                    80                 3                 3   \n",
       "1                    70                 3                 5   \n",
       "2                    80                13                15   \n",
       "3                    70                 2                 2   \n",
       "4                    80                 3                 4   \n",
       "\n",
       "   Avg. F size (L) (mm) Avg. F size (R) (mm)  Endometrium (mm)  Unnamed: 44  \n",
       "0                  18.0                 18.0               8.5          NaN  \n",
       "1                  15.0                 14.0               3.7          NaN  \n",
       "2                  18.0                 20.0              10.0          NaN  \n",
       "3                  15.0                 14.0               7.5          NaN  \n",
       "4                  16.0                 14.0               7.0          NaN  \n",
       "\n",
       "[5 rows x 45 columns]"
      ]
     },
     "execution_count": 5,
     "metadata": {},
     "output_type": "execute_result"
    }
   ],
   "source": [
    "infert.head()"
   ]
  },
  {
   "cell_type": "code",
   "execution_count": 6,
   "metadata": {},
   "outputs": [
    {
     "name": "stdout",
     "output_type": "stream",
     "text": [
      "<class 'pandas.core.frame.DataFrame'>\n",
      "RangeIndex: 541 entries, 0 to 540\n",
      "Data columns (total 45 columns):\n",
      " #   Column                  Non-Null Count  Dtype  \n",
      "---  ------                  --------------  -----  \n",
      " 0   Sl. No                  541 non-null    int64  \n",
      " 1   Patient File No.        541 non-null    int64  \n",
      " 2   PCOS (Y/N)              541 non-null    int64  \n",
      " 3    Age (yrs)              541 non-null    int64  \n",
      " 4   Weight (Kg)             541 non-null    float64\n",
      " 5   Height(Cm)              541 non-null    float64\n",
      " 6   BMI                     541 non-null    float64\n",
      " 7   Blood Group             541 non-null    int64  \n",
      " 8   Pulse rate(bpm)         541 non-null    int64  \n",
      " 9   RR (breaths/min)        541 non-null    int64  \n",
      " 10  Hb(g/dl)                541 non-null    float64\n",
      " 11  Cycle(R/I)              541 non-null    int64  \n",
      " 12  Cycle length(days)      541 non-null    int64  \n",
      " 13  Marraige Status (Yrs)   540 non-null    float64\n",
      " 14  Pregnant(Y/N)           541 non-null    int64  \n",
      " 15  No. of aborptions       541 non-null    int64  \n",
      " 16    I   beta-HCG(mIU/mL)  541 non-null    float64\n",
      " 17  II    beta-HCG(mIU/mL)  541 non-null    object \n",
      " 18  FSH(mIU/mL)             541 non-null    float64\n",
      " 19  LH(mIU/mL)              541 non-null    float64\n",
      " 20  FSH/LH                  541 non-null    float64\n",
      " 21  Hip(inch)               541 non-null    int64  \n",
      " 22  Waist(inch)             541 non-null    int64  \n",
      " 23  Waist:Hip Ratio         541 non-null    float64\n",
      " 24  TSH (mIU/L)             541 non-null    float64\n",
      " 25  AMH(ng/mL)              541 non-null    object \n",
      " 26  PRL(ng/mL)              541 non-null    float64\n",
      " 27  Vit D3 (ng/mL)          541 non-null    float64\n",
      " 28  PRG(ng/mL)              541 non-null    float64\n",
      " 29  RBS(mg/dl)              541 non-null    float64\n",
      " 30  Weight gain(Y/N)        541 non-null    int64  \n",
      " 31  hair growth(Y/N)        541 non-null    int64  \n",
      " 32  Skin darkening (Y/N)    541 non-null    int64  \n",
      " 33  Hair loss(Y/N)          541 non-null    int64  \n",
      " 34  Pimples(Y/N)            541 non-null    int64  \n",
      " 35  Fast food (Y/N)         540 non-null    float64\n",
      " 36  Reg.Exercise(Y/N)       541 non-null    int64  \n",
      " 37  BP _Systolic (mmHg)     541 non-null    int64  \n",
      " 38  BP _Diastolic (mmHg)    541 non-null    int64  \n",
      " 39  Follicle No. (L)        541 non-null    int64  \n",
      " 40  Follicle No. (R)        541 non-null    int64  \n",
      " 41  Avg. F size (L) (mm)    541 non-null    float64\n",
      " 42  Avg. F size (R) (mm)    541 non-null    float64\n",
      " 43  Endometrium (mm)        541 non-null    float64\n",
      " 44  Unnamed: 44             2 non-null      object \n",
      "dtypes: float64(19), int64(23), object(3)\n",
      "memory usage: 190.3+ KB\n"
     ]
    }
   ],
   "source": [
    "infert.info()"
   ]
  },
  {
   "cell_type": "code",
   "execution_count": 7,
   "metadata": {},
   "outputs": [
    {
     "name": "stdout",
     "output_type": "stream",
     "text": [
      "<class 'pandas.core.frame.DataFrame'>\n",
      "Int64Index: 541 entries, 0 to 540\n",
      "Data columns (total 50 columns):\n",
      " #   Column                    Non-Null Count  Dtype  \n",
      "---  ------                    --------------  -----  \n",
      " 0   Sl. No                    541 non-null    int64  \n",
      " 1   Patient File No._x        541 non-null    int64  \n",
      " 2   PCOS (Y/N)_x              541 non-null    int64  \n",
      " 3    Age (yrs)                541 non-null    int64  \n",
      " 4   Weight (Kg)               541 non-null    float64\n",
      " 5   Height(Cm)                541 non-null    float64\n",
      " 6   BMI                       541 non-null    float64\n",
      " 7   Blood Group               541 non-null    int64  \n",
      " 8   Pulse rate(bpm)           541 non-null    int64  \n",
      " 9   RR (breaths/min)          541 non-null    int64  \n",
      " 10  Hb(g/dl)                  541 non-null    float64\n",
      " 11  Cycle(R/I)                541 non-null    int64  \n",
      " 12  Cycle length(days)        541 non-null    int64  \n",
      " 13  Marraige Status (Yrs)     540 non-null    float64\n",
      " 14  Pregnant(Y/N)             541 non-null    int64  \n",
      " 15  No. of aborptions         541 non-null    int64  \n",
      " 16    I   beta-HCG(mIU/mL)_x  541 non-null    float64\n",
      " 17  II    beta-HCG(mIU/mL)_x  541 non-null    object \n",
      " 18  FSH(mIU/mL)               541 non-null    float64\n",
      " 19  LH(mIU/mL)                541 non-null    float64\n",
      " 20  FSH/LH                    541 non-null    float64\n",
      " 21  Hip(inch)                 541 non-null    int64  \n",
      " 22  Waist(inch)               541 non-null    int64  \n",
      " 23  Waist:Hip Ratio           541 non-null    float64\n",
      " 24  TSH (mIU/L)               541 non-null    float64\n",
      " 25  AMH(ng/mL)_x              541 non-null    object \n",
      " 26  PRL(ng/mL)                541 non-null    float64\n",
      " 27  Vit D3 (ng/mL)            541 non-null    float64\n",
      " 28  PRG(ng/mL)                541 non-null    float64\n",
      " 29  RBS(mg/dl)                541 non-null    float64\n",
      " 30  Weight gain(Y/N)          541 non-null    int64  \n",
      " 31  hair growth(Y/N)          541 non-null    int64  \n",
      " 32  Skin darkening (Y/N)      541 non-null    int64  \n",
      " 33  Hair loss(Y/N)            541 non-null    int64  \n",
      " 34  Pimples(Y/N)              541 non-null    int64  \n",
      " 35  Fast food (Y/N)           540 non-null    float64\n",
      " 36  Reg.Exercise(Y/N)         541 non-null    int64  \n",
      " 37  BP _Systolic (mmHg)       541 non-null    int64  \n",
      " 38  BP _Diastolic (mmHg)      541 non-null    int64  \n",
      " 39  Follicle No. (L)          541 non-null    int64  \n",
      " 40  Follicle No. (R)          541 non-null    int64  \n",
      " 41  Avg. F size (L) (mm)      541 non-null    float64\n",
      " 42  Avg. F size (R) (mm)      541 non-null    float64\n",
      " 43  Endometrium (mm)          541 non-null    float64\n",
      " 44  Unnamed: 44               2 non-null      object \n",
      " 45  Patient File No._y        541 non-null    int64  \n",
      " 46  PCOS (Y/N)_y              541 non-null    int64  \n",
      " 47    I   beta-HCG(mIU/mL)_y  541 non-null    float64\n",
      " 48  II    beta-HCG(mIU/mL)_y  541 non-null    float64\n",
      " 49  AMH(ng/mL)_y              541 non-null    object \n",
      "dtypes: float64(21), int64(25), object(4)\n",
      "memory usage: 215.6+ KB\n"
     ]
    }
   ],
   "source": [
    "pcos = infert.merge(fert, on=\"Sl. No\",suffixes=(\"_x\",\"_y\"), how=\"left\")\n",
    "pcos.info()"
   ]
  },
  {
   "cell_type": "code",
   "execution_count": 8,
   "metadata": {},
   "outputs": [
    {
     "data": {
      "text/html": [
       "<pre style=\"white-space:pre;overflow-x:auto;line-height:normal;font-family:Menlo,'DejaVu Sans Mono',consolas,'Courier New',monospace\"><span style=\"color: #008080; text-decoration-color: #008080; font-weight: bold\">50</span> column names have been cleaned\n",
       "</pre>\n"
      ],
      "text/plain": [
       "\u001b[1;36m50\u001b[0m column names have been cleaned\n"
      ]
     },
     "metadata": {},
     "output_type": "display_data"
    }
   ],
   "source": [
    "#column name clean up\n",
    "pcos_clean = clean_columns(pcos)\n"
   ]
  },
  {
   "cell_type": "code",
   "execution_count": 9,
   "metadata": {},
   "outputs": [
    {
     "data": {
      "text/plain": [
       "['marraige_status_yrs', 'fast_food_y_n', 'unnamed_44']"
      ]
     },
     "execution_count": 9,
     "metadata": {},
     "output_type": "execute_result"
    }
   ],
   "source": [
    "[x for x in pcos_clean.columns if pcos_clean[x].isnull().sum() > 0]"
   ]
  },
  {
   "cell_type": "code",
   "execution_count": 10,
   "metadata": {},
   "outputs": [
    {
     "data": {
      "text/html": [
       "<div>\n",
       "<style scoped>\n",
       "    .dataframe tbody tr th:only-of-type {\n",
       "        vertical-align: middle;\n",
       "    }\n",
       "\n",
       "    .dataframe tbody tr th {\n",
       "        vertical-align: top;\n",
       "    }\n",
       "\n",
       "    .dataframe thead th {\n",
       "        text-align: right;\n",
       "    }\n",
       "</style>\n",
       "<table border=\"1\" class=\"dataframe\">\n",
       "  <thead>\n",
       "    <tr style=\"text-align: right;\">\n",
       "      <th></th>\n",
       "      <th>Null</th>\n",
       "      <th>%Null</th>\n",
       "    </tr>\n",
       "  </thead>\n",
       "  <tbody>\n",
       "    <tr>\n",
       "      <th>sl_no</th>\n",
       "      <td>0</td>\n",
       "      <td>0.000000</td>\n",
       "    </tr>\n",
       "    <tr>\n",
       "      <th>patient_file_no_x</th>\n",
       "      <td>0</td>\n",
       "      <td>0.000000</td>\n",
       "    </tr>\n",
       "    <tr>\n",
       "      <th>pcos_y_n_x</th>\n",
       "      <td>0</td>\n",
       "      <td>0.000000</td>\n",
       "    </tr>\n",
       "    <tr>\n",
       "      <th>age_yrs</th>\n",
       "      <td>0</td>\n",
       "      <td>0.000000</td>\n",
       "    </tr>\n",
       "    <tr>\n",
       "      <th>weight_kg</th>\n",
       "      <td>0</td>\n",
       "      <td>0.000000</td>\n",
       "    </tr>\n",
       "    <tr>\n",
       "      <th>height_cm</th>\n",
       "      <td>0</td>\n",
       "      <td>0.000000</td>\n",
       "    </tr>\n",
       "    <tr>\n",
       "      <th>bmi</th>\n",
       "      <td>0</td>\n",
       "      <td>0.000000</td>\n",
       "    </tr>\n",
       "    <tr>\n",
       "      <th>blood_group</th>\n",
       "      <td>0</td>\n",
       "      <td>0.000000</td>\n",
       "    </tr>\n",
       "    <tr>\n",
       "      <th>pulse_rate_bpm</th>\n",
       "      <td>0</td>\n",
       "      <td>0.000000</td>\n",
       "    </tr>\n",
       "    <tr>\n",
       "      <th>rr_breaths_min</th>\n",
       "      <td>0</td>\n",
       "      <td>0.000000</td>\n",
       "    </tr>\n",
       "    <tr>\n",
       "      <th>hb_g_dl</th>\n",
       "      <td>0</td>\n",
       "      <td>0.000000</td>\n",
       "    </tr>\n",
       "    <tr>\n",
       "      <th>cycle_r_i</th>\n",
       "      <td>0</td>\n",
       "      <td>0.000000</td>\n",
       "    </tr>\n",
       "    <tr>\n",
       "      <th>cycle_length_days</th>\n",
       "      <td>0</td>\n",
       "      <td>0.000000</td>\n",
       "    </tr>\n",
       "    <tr>\n",
       "      <th>marraige_status_yrs</th>\n",
       "      <td>1</td>\n",
       "      <td>0.184843</td>\n",
       "    </tr>\n",
       "    <tr>\n",
       "      <th>pregnant_y_n</th>\n",
       "      <td>0</td>\n",
       "      <td>0.000000</td>\n",
       "    </tr>\n",
       "    <tr>\n",
       "      <th>no_of_aborptions</th>\n",
       "      <td>0</td>\n",
       "      <td>0.000000</td>\n",
       "    </tr>\n",
       "    <tr>\n",
       "      <th>i_beta_hcg_m_iu_m_l_x</th>\n",
       "      <td>0</td>\n",
       "      <td>0.000000</td>\n",
       "    </tr>\n",
       "    <tr>\n",
       "      <th>ii_beta_hcg_m_iu_m_l_x</th>\n",
       "      <td>0</td>\n",
       "      <td>0.000000</td>\n",
       "    </tr>\n",
       "    <tr>\n",
       "      <th>fsh_m_iu_m_l</th>\n",
       "      <td>0</td>\n",
       "      <td>0.000000</td>\n",
       "    </tr>\n",
       "    <tr>\n",
       "      <th>lh_m_iu_m_l</th>\n",
       "      <td>0</td>\n",
       "      <td>0.000000</td>\n",
       "    </tr>\n",
       "    <tr>\n",
       "      <th>fsh_lh</th>\n",
       "      <td>0</td>\n",
       "      <td>0.000000</td>\n",
       "    </tr>\n",
       "    <tr>\n",
       "      <th>hip_inch</th>\n",
       "      <td>0</td>\n",
       "      <td>0.000000</td>\n",
       "    </tr>\n",
       "    <tr>\n",
       "      <th>waist_inch</th>\n",
       "      <td>0</td>\n",
       "      <td>0.000000</td>\n",
       "    </tr>\n",
       "    <tr>\n",
       "      <th>waist_hip_ratio</th>\n",
       "      <td>0</td>\n",
       "      <td>0.000000</td>\n",
       "    </tr>\n",
       "    <tr>\n",
       "      <th>tsh_m_iu_l</th>\n",
       "      <td>0</td>\n",
       "      <td>0.000000</td>\n",
       "    </tr>\n",
       "    <tr>\n",
       "      <th>amh_ng_m_l_x</th>\n",
       "      <td>0</td>\n",
       "      <td>0.000000</td>\n",
       "    </tr>\n",
       "    <tr>\n",
       "      <th>prl_ng_m_l</th>\n",
       "      <td>0</td>\n",
       "      <td>0.000000</td>\n",
       "    </tr>\n",
       "    <tr>\n",
       "      <th>vit_d_3_ng_m_l</th>\n",
       "      <td>0</td>\n",
       "      <td>0.000000</td>\n",
       "    </tr>\n",
       "    <tr>\n",
       "      <th>prg_ng_m_l</th>\n",
       "      <td>0</td>\n",
       "      <td>0.000000</td>\n",
       "    </tr>\n",
       "    <tr>\n",
       "      <th>rbs_mg_dl</th>\n",
       "      <td>0</td>\n",
       "      <td>0.000000</td>\n",
       "    </tr>\n",
       "    <tr>\n",
       "      <th>weight_gain_y_n</th>\n",
       "      <td>0</td>\n",
       "      <td>0.000000</td>\n",
       "    </tr>\n",
       "    <tr>\n",
       "      <th>hair_growth_y_n</th>\n",
       "      <td>0</td>\n",
       "      <td>0.000000</td>\n",
       "    </tr>\n",
       "    <tr>\n",
       "      <th>skin_darkening_y_n</th>\n",
       "      <td>0</td>\n",
       "      <td>0.000000</td>\n",
       "    </tr>\n",
       "    <tr>\n",
       "      <th>hair_loss_y_n</th>\n",
       "      <td>0</td>\n",
       "      <td>0.000000</td>\n",
       "    </tr>\n",
       "    <tr>\n",
       "      <th>pimples_y_n</th>\n",
       "      <td>0</td>\n",
       "      <td>0.000000</td>\n",
       "    </tr>\n",
       "    <tr>\n",
       "      <th>fast_food_y_n</th>\n",
       "      <td>1</td>\n",
       "      <td>0.184843</td>\n",
       "    </tr>\n",
       "    <tr>\n",
       "      <th>reg_exercise_y_n</th>\n",
       "      <td>0</td>\n",
       "      <td>0.000000</td>\n",
       "    </tr>\n",
       "    <tr>\n",
       "      <th>bp_systolic_mm_hg</th>\n",
       "      <td>0</td>\n",
       "      <td>0.000000</td>\n",
       "    </tr>\n",
       "    <tr>\n",
       "      <th>bp_diastolic_mm_hg</th>\n",
       "      <td>0</td>\n",
       "      <td>0.000000</td>\n",
       "    </tr>\n",
       "    <tr>\n",
       "      <th>follicle_no_l</th>\n",
       "      <td>0</td>\n",
       "      <td>0.000000</td>\n",
       "    </tr>\n",
       "    <tr>\n",
       "      <th>follicle_no_r</th>\n",
       "      <td>0</td>\n",
       "      <td>0.000000</td>\n",
       "    </tr>\n",
       "    <tr>\n",
       "      <th>avg_f_size_l_mm</th>\n",
       "      <td>0</td>\n",
       "      <td>0.000000</td>\n",
       "    </tr>\n",
       "    <tr>\n",
       "      <th>avg_f_size_r_mm</th>\n",
       "      <td>0</td>\n",
       "      <td>0.000000</td>\n",
       "    </tr>\n",
       "    <tr>\n",
       "      <th>endometrium_mm</th>\n",
       "      <td>0</td>\n",
       "      <td>0.000000</td>\n",
       "    </tr>\n",
       "    <tr>\n",
       "      <th>unnamed_44</th>\n",
       "      <td>539</td>\n",
       "      <td>99.630314</td>\n",
       "    </tr>\n",
       "    <tr>\n",
       "      <th>patient_file_no_y</th>\n",
       "      <td>0</td>\n",
       "      <td>0.000000</td>\n",
       "    </tr>\n",
       "    <tr>\n",
       "      <th>pcos_y_n_y</th>\n",
       "      <td>0</td>\n",
       "      <td>0.000000</td>\n",
       "    </tr>\n",
       "    <tr>\n",
       "      <th>i_beta_hcg_m_iu_m_l_y</th>\n",
       "      <td>0</td>\n",
       "      <td>0.000000</td>\n",
       "    </tr>\n",
       "    <tr>\n",
       "      <th>ii_beta_hcg_m_iu_m_l_y</th>\n",
       "      <td>0</td>\n",
       "      <td>0.000000</td>\n",
       "    </tr>\n",
       "    <tr>\n",
       "      <th>amh_ng_m_l_y</th>\n",
       "      <td>0</td>\n",
       "      <td>0.000000</td>\n",
       "    </tr>\n",
       "  </tbody>\n",
       "</table>\n",
       "</div>"
      ],
      "text/plain": [
       "                        Null      %Null\n",
       "sl_no                      0   0.000000\n",
       "patient_file_no_x          0   0.000000\n",
       "pcos_y_n_x                 0   0.000000\n",
       "age_yrs                    0   0.000000\n",
       "weight_kg                  0   0.000000\n",
       "height_cm                  0   0.000000\n",
       "bmi                        0   0.000000\n",
       "blood_group                0   0.000000\n",
       "pulse_rate_bpm             0   0.000000\n",
       "rr_breaths_min             0   0.000000\n",
       "hb_g_dl                    0   0.000000\n",
       "cycle_r_i                  0   0.000000\n",
       "cycle_length_days          0   0.000000\n",
       "marraige_status_yrs        1   0.184843\n",
       "pregnant_y_n               0   0.000000\n",
       "no_of_aborptions           0   0.000000\n",
       "i_beta_hcg_m_iu_m_l_x      0   0.000000\n",
       "ii_beta_hcg_m_iu_m_l_x     0   0.000000\n",
       "fsh_m_iu_m_l               0   0.000000\n",
       "lh_m_iu_m_l                0   0.000000\n",
       "fsh_lh                     0   0.000000\n",
       "hip_inch                   0   0.000000\n",
       "waist_inch                 0   0.000000\n",
       "waist_hip_ratio            0   0.000000\n",
       "tsh_m_iu_l                 0   0.000000\n",
       "amh_ng_m_l_x               0   0.000000\n",
       "prl_ng_m_l                 0   0.000000\n",
       "vit_d_3_ng_m_l             0   0.000000\n",
       "prg_ng_m_l                 0   0.000000\n",
       "rbs_mg_dl                  0   0.000000\n",
       "weight_gain_y_n            0   0.000000\n",
       "hair_growth_y_n            0   0.000000\n",
       "skin_darkening_y_n         0   0.000000\n",
       "hair_loss_y_n              0   0.000000\n",
       "pimples_y_n                0   0.000000\n",
       "fast_food_y_n              1   0.184843\n",
       "reg_exercise_y_n           0   0.000000\n",
       "bp_systolic_mm_hg          0   0.000000\n",
       "bp_diastolic_mm_hg         0   0.000000\n",
       "follicle_no_l              0   0.000000\n",
       "follicle_no_r              0   0.000000\n",
       "avg_f_size_l_mm            0   0.000000\n",
       "avg_f_size_r_mm            0   0.000000\n",
       "endometrium_mm             0   0.000000\n",
       "unnamed_44               539  99.630314\n",
       "patient_file_no_y          0   0.000000\n",
       "pcos_y_n_y                 0   0.000000\n",
       "i_beta_hcg_m_iu_m_l_y      0   0.000000\n",
       "ii_beta_hcg_m_iu_m_l_y     0   0.000000\n",
       "amh_ng_m_l_y               0   0.000000"
      ]
     },
     "execution_count": 10,
     "metadata": {},
     "output_type": "execute_result"
    }
   ],
   "source": [
    "pd.DataFrame({\"Null\": pcos_clean.isnull().sum(), \"%Null\" : (pcos_clean.isnull().sum()/pcos_clean.shape[0])*100})"
   ]
  },
  {
   "cell_type": "code",
   "execution_count": 11,
   "metadata": {},
   "outputs": [],
   "source": [
    "pcos_clean.drop(\"unnamed_44\", axis=1, inplace=True) # drop \"Unnamed_44\""
   ]
  },
  {
   "cell_type": "code",
   "execution_count": 12,
   "metadata": {},
   "outputs": [
    {
     "name": "stdout",
     "output_type": "stream",
     "text": [
      "pcos_y_n_x and pcos_y_n_y are equal\n",
      "i_beta_hcg_m_iu_m_l_x and i_beta_hcg_m_iu_m_l_y are equal\n",
      "ii_beta_hcg_m_iu_m_l_x and ii_beta_hcg_m_iu_m_l_y are not equal\n",
      "amh_ng_m_l_x and amh_ng_m_l_y are not equal\n"
     ]
    }
   ],
   "source": [
    "#columsn in _x and _y that are similar\n",
    "#  \n",
    "def equal_cols(col_1, col_2):\n",
    "    if pcos_clean[col_1].equals(pcos_clean[col_2]):\n",
    "        return (f\"{col_1} and {col_2} are equal\")\n",
    "    else:\n",
    "        return f\"{col_1} and {col_2} are not equal\"    \n",
    "\n",
    "print(equal_cols(\"pcos_y_n_x\",\"pcos_y_n_y\"))\n",
    "print(equal_cols(\"i_beta_hcg_m_iu_m_l_x\",\"i_beta_hcg_m_iu_m_l_y\"))\n",
    "print(equal_cols(\"ii_beta_hcg_m_iu_m_l_x\",\"ii_beta_hcg_m_iu_m_l_y\"))\n",
    "print(equal_cols(\"amh_ng_m_l_x\",\"amh_ng_m_l_y\"))\n"
   ]
  },
  {
   "cell_type": "code",
   "execution_count": 13,
   "metadata": {},
   "outputs": [],
   "source": [
    "# removing columns that are equal as well as those from the y-dataset\n",
    "pcos_clean.drop([\"pcos_y_n_y\",\"i_beta_hcg_m_iu_m_l_y\",\"patient_file_no_y\",\"ii_beta_hcg_m_iu_m_l_x\",\n",
    "                \"amh_ng_m_l_y\",\"patient_file_no_x\"], axis = 1, inplace=True)"
   ]
  },
  {
   "cell_type": "code",
   "execution_count": 14,
   "metadata": {},
   "outputs": [],
   "source": [
    "#missing values\n",
    "for col in [\"marraige_status_yrs\",\"fast_food_y_n\"]:\n",
    "    pcos_clean[col].fillna(pcos_clean[col].mode()[0], inplace = True)"
   ]
  },
  {
   "cell_type": "code",
   "execution_count": 15,
   "metadata": {},
   "outputs": [
    {
     "data": {
      "text/html": [
       "<div>\n",
       "<style scoped>\n",
       "    .dataframe tbody tr th:only-of-type {\n",
       "        vertical-align: middle;\n",
       "    }\n",
       "\n",
       "    .dataframe tbody tr th {\n",
       "        vertical-align: top;\n",
       "    }\n",
       "\n",
       "    .dataframe thead th {\n",
       "        text-align: right;\n",
       "    }\n",
       "</style>\n",
       "<table border=\"1\" class=\"dataframe\">\n",
       "  <thead>\n",
       "    <tr style=\"text-align: right;\">\n",
       "      <th></th>\n",
       "      <th>count</th>\n",
       "      <th>mean</th>\n",
       "      <th>std</th>\n",
       "      <th>min</th>\n",
       "      <th>25%</th>\n",
       "      <th>50%</th>\n",
       "      <th>75%</th>\n",
       "      <th>max</th>\n",
       "    </tr>\n",
       "  </thead>\n",
       "  <tbody>\n",
       "    <tr>\n",
       "      <th>sl_no</th>\n",
       "      <td>541.0</td>\n",
       "      <td>271.000000</td>\n",
       "      <td>156.317519</td>\n",
       "      <td>1.000000</td>\n",
       "      <td>136.000000</td>\n",
       "      <td>271.000000</td>\n",
       "      <td>406.000000</td>\n",
       "      <td>541.000000</td>\n",
       "    </tr>\n",
       "    <tr>\n",
       "      <th>pcos_y_n_x</th>\n",
       "      <td>541.0</td>\n",
       "      <td>0.327172</td>\n",
       "      <td>0.469615</td>\n",
       "      <td>0.000000</td>\n",
       "      <td>0.000000</td>\n",
       "      <td>0.000000</td>\n",
       "      <td>1.000000</td>\n",
       "      <td>1.000000</td>\n",
       "    </tr>\n",
       "    <tr>\n",
       "      <th>age_yrs</th>\n",
       "      <td>541.0</td>\n",
       "      <td>31.430684</td>\n",
       "      <td>5.411006</td>\n",
       "      <td>20.000000</td>\n",
       "      <td>28.000000</td>\n",
       "      <td>31.000000</td>\n",
       "      <td>35.000000</td>\n",
       "      <td>48.000000</td>\n",
       "    </tr>\n",
       "    <tr>\n",
       "      <th>weight_kg</th>\n",
       "      <td>541.0</td>\n",
       "      <td>59.637153</td>\n",
       "      <td>11.028287</td>\n",
       "      <td>31.000000</td>\n",
       "      <td>52.000000</td>\n",
       "      <td>59.000000</td>\n",
       "      <td>65.000000</td>\n",
       "      <td>108.000000</td>\n",
       "    </tr>\n",
       "    <tr>\n",
       "      <th>height_cm</th>\n",
       "      <td>541.0</td>\n",
       "      <td>156.484835</td>\n",
       "      <td>6.033545</td>\n",
       "      <td>137.000000</td>\n",
       "      <td>152.000000</td>\n",
       "      <td>156.000000</td>\n",
       "      <td>160.000000</td>\n",
       "      <td>180.000000</td>\n",
       "    </tr>\n",
       "    <tr>\n",
       "      <th>bmi</th>\n",
       "      <td>541.0</td>\n",
       "      <td>24.311285</td>\n",
       "      <td>4.056399</td>\n",
       "      <td>12.417882</td>\n",
       "      <td>21.641274</td>\n",
       "      <td>24.238227</td>\n",
       "      <td>26.634958</td>\n",
       "      <td>38.900000</td>\n",
       "    </tr>\n",
       "    <tr>\n",
       "      <th>blood_group</th>\n",
       "      <td>541.0</td>\n",
       "      <td>13.802218</td>\n",
       "      <td>1.840812</td>\n",
       "      <td>11.000000</td>\n",
       "      <td>13.000000</td>\n",
       "      <td>14.000000</td>\n",
       "      <td>15.000000</td>\n",
       "      <td>18.000000</td>\n",
       "    </tr>\n",
       "    <tr>\n",
       "      <th>pulse_rate_bpm</th>\n",
       "      <td>541.0</td>\n",
       "      <td>73.247689</td>\n",
       "      <td>4.430285</td>\n",
       "      <td>13.000000</td>\n",
       "      <td>72.000000</td>\n",
       "      <td>72.000000</td>\n",
       "      <td>74.000000</td>\n",
       "      <td>82.000000</td>\n",
       "    </tr>\n",
       "    <tr>\n",
       "      <th>rr_breaths_min</th>\n",
       "      <td>541.0</td>\n",
       "      <td>19.243993</td>\n",
       "      <td>1.688629</td>\n",
       "      <td>16.000000</td>\n",
       "      <td>18.000000</td>\n",
       "      <td>18.000000</td>\n",
       "      <td>20.000000</td>\n",
       "      <td>28.000000</td>\n",
       "    </tr>\n",
       "    <tr>\n",
       "      <th>hb_g_dl</th>\n",
       "      <td>541.0</td>\n",
       "      <td>11.160037</td>\n",
       "      <td>0.866904</td>\n",
       "      <td>8.500000</td>\n",
       "      <td>10.500000</td>\n",
       "      <td>11.000000</td>\n",
       "      <td>11.700000</td>\n",
       "      <td>14.800000</td>\n",
       "    </tr>\n",
       "    <tr>\n",
       "      <th>cycle_r_i</th>\n",
       "      <td>541.0</td>\n",
       "      <td>2.560074</td>\n",
       "      <td>0.901950</td>\n",
       "      <td>2.000000</td>\n",
       "      <td>2.000000</td>\n",
       "      <td>2.000000</td>\n",
       "      <td>4.000000</td>\n",
       "      <td>5.000000</td>\n",
       "    </tr>\n",
       "    <tr>\n",
       "      <th>cycle_length_days</th>\n",
       "      <td>541.0</td>\n",
       "      <td>4.940850</td>\n",
       "      <td>1.492020</td>\n",
       "      <td>0.000000</td>\n",
       "      <td>4.000000</td>\n",
       "      <td>5.000000</td>\n",
       "      <td>5.000000</td>\n",
       "      <td>12.000000</td>\n",
       "    </tr>\n",
       "    <tr>\n",
       "      <th>marraige_status_yrs</th>\n",
       "      <td>541.0</td>\n",
       "      <td>7.674122</td>\n",
       "      <td>4.801994</td>\n",
       "      <td>0.000000</td>\n",
       "      <td>4.000000</td>\n",
       "      <td>7.000000</td>\n",
       "      <td>10.000000</td>\n",
       "      <td>30.000000</td>\n",
       "    </tr>\n",
       "    <tr>\n",
       "      <th>pregnant_y_n</th>\n",
       "      <td>541.0</td>\n",
       "      <td>0.380776</td>\n",
       "      <td>0.486027</td>\n",
       "      <td>0.000000</td>\n",
       "      <td>0.000000</td>\n",
       "      <td>0.000000</td>\n",
       "      <td>1.000000</td>\n",
       "      <td>1.000000</td>\n",
       "    </tr>\n",
       "    <tr>\n",
       "      <th>no_of_aborptions</th>\n",
       "      <td>541.0</td>\n",
       "      <td>0.288355</td>\n",
       "      <td>0.692575</td>\n",
       "      <td>0.000000</td>\n",
       "      <td>0.000000</td>\n",
       "      <td>0.000000</td>\n",
       "      <td>0.000000</td>\n",
       "      <td>5.000000</td>\n",
       "    </tr>\n",
       "    <tr>\n",
       "      <th>i_beta_hcg_m_iu_m_l_x</th>\n",
       "      <td>541.0</td>\n",
       "      <td>664.549235</td>\n",
       "      <td>3348.920576</td>\n",
       "      <td>1.300000</td>\n",
       "      <td>1.990000</td>\n",
       "      <td>20.000000</td>\n",
       "      <td>297.210000</td>\n",
       "      <td>32460.970000</td>\n",
       "    </tr>\n",
       "    <tr>\n",
       "      <th>fsh_m_iu_m_l</th>\n",
       "      <td>541.0</td>\n",
       "      <td>14.601832</td>\n",
       "      <td>217.022081</td>\n",
       "      <td>0.210000</td>\n",
       "      <td>3.300000</td>\n",
       "      <td>4.850000</td>\n",
       "      <td>6.410000</td>\n",
       "      <td>5052.000000</td>\n",
       "    </tr>\n",
       "    <tr>\n",
       "      <th>lh_m_iu_m_l</th>\n",
       "      <td>541.0</td>\n",
       "      <td>6.469919</td>\n",
       "      <td>86.673255</td>\n",
       "      <td>0.020000</td>\n",
       "      <td>1.020000</td>\n",
       "      <td>2.300000</td>\n",
       "      <td>3.680000</td>\n",
       "      <td>2018.000000</td>\n",
       "    </tr>\n",
       "    <tr>\n",
       "      <th>fsh_lh</th>\n",
       "      <td>541.0</td>\n",
       "      <td>6.904831</td>\n",
       "      <td>60.691822</td>\n",
       "      <td>0.002146</td>\n",
       "      <td>1.416244</td>\n",
       "      <td>2.169231</td>\n",
       "      <td>3.959184</td>\n",
       "      <td>1372.826087</td>\n",
       "    </tr>\n",
       "    <tr>\n",
       "      <th>hip_inch</th>\n",
       "      <td>541.0</td>\n",
       "      <td>37.992606</td>\n",
       "      <td>3.967920</td>\n",
       "      <td>26.000000</td>\n",
       "      <td>36.000000</td>\n",
       "      <td>38.000000</td>\n",
       "      <td>40.000000</td>\n",
       "      <td>48.000000</td>\n",
       "    </tr>\n",
       "    <tr>\n",
       "      <th>waist_inch</th>\n",
       "      <td>541.0</td>\n",
       "      <td>33.841035</td>\n",
       "      <td>3.596894</td>\n",
       "      <td>24.000000</td>\n",
       "      <td>32.000000</td>\n",
       "      <td>34.000000</td>\n",
       "      <td>36.000000</td>\n",
       "      <td>47.000000</td>\n",
       "    </tr>\n",
       "    <tr>\n",
       "      <th>waist_hip_ratio</th>\n",
       "      <td>541.0</td>\n",
       "      <td>0.891895</td>\n",
       "      <td>0.046326</td>\n",
       "      <td>0.755556</td>\n",
       "      <td>0.857143</td>\n",
       "      <td>0.894737</td>\n",
       "      <td>0.928571</td>\n",
       "      <td>0.979167</td>\n",
       "    </tr>\n",
       "    <tr>\n",
       "      <th>tsh_m_iu_l</th>\n",
       "      <td>541.0</td>\n",
       "      <td>2.981281</td>\n",
       "      <td>3.755532</td>\n",
       "      <td>0.040000</td>\n",
       "      <td>1.480000</td>\n",
       "      <td>2.260000</td>\n",
       "      <td>3.570000</td>\n",
       "      <td>65.000000</td>\n",
       "    </tr>\n",
       "    <tr>\n",
       "      <th>prl_ng_m_l</th>\n",
       "      <td>541.0</td>\n",
       "      <td>24.321497</td>\n",
       "      <td>14.970391</td>\n",
       "      <td>0.400000</td>\n",
       "      <td>14.520000</td>\n",
       "      <td>21.920000</td>\n",
       "      <td>29.890000</td>\n",
       "      <td>128.240000</td>\n",
       "    </tr>\n",
       "    <tr>\n",
       "      <th>vit_d_3_ng_m_l</th>\n",
       "      <td>541.0</td>\n",
       "      <td>49.915874</td>\n",
       "      <td>346.206599</td>\n",
       "      <td>0.000000</td>\n",
       "      <td>20.800000</td>\n",
       "      <td>25.900000</td>\n",
       "      <td>34.500000</td>\n",
       "      <td>6014.660000</td>\n",
       "    </tr>\n",
       "    <tr>\n",
       "      <th>prg_ng_m_l</th>\n",
       "      <td>541.0</td>\n",
       "      <td>0.610945</td>\n",
       "      <td>3.808853</td>\n",
       "      <td>0.047000</td>\n",
       "      <td>0.250000</td>\n",
       "      <td>0.320000</td>\n",
       "      <td>0.450000</td>\n",
       "      <td>85.000000</td>\n",
       "    </tr>\n",
       "    <tr>\n",
       "      <th>rbs_mg_dl</th>\n",
       "      <td>541.0</td>\n",
       "      <td>99.835860</td>\n",
       "      <td>18.559298</td>\n",
       "      <td>60.000000</td>\n",
       "      <td>92.000000</td>\n",
       "      <td>100.000000</td>\n",
       "      <td>107.000000</td>\n",
       "      <td>350.000000</td>\n",
       "    </tr>\n",
       "    <tr>\n",
       "      <th>weight_gain_y_n</th>\n",
       "      <td>541.0</td>\n",
       "      <td>0.377079</td>\n",
       "      <td>0.485104</td>\n",
       "      <td>0.000000</td>\n",
       "      <td>0.000000</td>\n",
       "      <td>0.000000</td>\n",
       "      <td>1.000000</td>\n",
       "      <td>1.000000</td>\n",
       "    </tr>\n",
       "    <tr>\n",
       "      <th>hair_growth_y_n</th>\n",
       "      <td>541.0</td>\n",
       "      <td>0.273567</td>\n",
       "      <td>0.446202</td>\n",
       "      <td>0.000000</td>\n",
       "      <td>0.000000</td>\n",
       "      <td>0.000000</td>\n",
       "      <td>1.000000</td>\n",
       "      <td>1.000000</td>\n",
       "    </tr>\n",
       "    <tr>\n",
       "      <th>skin_darkening_y_n</th>\n",
       "      <td>541.0</td>\n",
       "      <td>0.306839</td>\n",
       "      <td>0.461609</td>\n",
       "      <td>0.000000</td>\n",
       "      <td>0.000000</td>\n",
       "      <td>0.000000</td>\n",
       "      <td>1.000000</td>\n",
       "      <td>1.000000</td>\n",
       "    </tr>\n",
       "    <tr>\n",
       "      <th>hair_loss_y_n</th>\n",
       "      <td>541.0</td>\n",
       "      <td>0.452865</td>\n",
       "      <td>0.498234</td>\n",
       "      <td>0.000000</td>\n",
       "      <td>0.000000</td>\n",
       "      <td>0.000000</td>\n",
       "      <td>1.000000</td>\n",
       "      <td>1.000000</td>\n",
       "    </tr>\n",
       "    <tr>\n",
       "      <th>pimples_y_n</th>\n",
       "      <td>541.0</td>\n",
       "      <td>0.489834</td>\n",
       "      <td>0.500359</td>\n",
       "      <td>0.000000</td>\n",
       "      <td>0.000000</td>\n",
       "      <td>0.000000</td>\n",
       "      <td>1.000000</td>\n",
       "      <td>1.000000</td>\n",
       "    </tr>\n",
       "    <tr>\n",
       "      <th>fast_food_y_n</th>\n",
       "      <td>541.0</td>\n",
       "      <td>0.515712</td>\n",
       "      <td>0.500216</td>\n",
       "      <td>0.000000</td>\n",
       "      <td>0.000000</td>\n",
       "      <td>1.000000</td>\n",
       "      <td>1.000000</td>\n",
       "      <td>1.000000</td>\n",
       "    </tr>\n",
       "    <tr>\n",
       "      <th>reg_exercise_y_n</th>\n",
       "      <td>541.0</td>\n",
       "      <td>0.247689</td>\n",
       "      <td>0.432070</td>\n",
       "      <td>0.000000</td>\n",
       "      <td>0.000000</td>\n",
       "      <td>0.000000</td>\n",
       "      <td>0.000000</td>\n",
       "      <td>1.000000</td>\n",
       "    </tr>\n",
       "    <tr>\n",
       "      <th>bp_systolic_mm_hg</th>\n",
       "      <td>541.0</td>\n",
       "      <td>114.661738</td>\n",
       "      <td>7.384556</td>\n",
       "      <td>12.000000</td>\n",
       "      <td>110.000000</td>\n",
       "      <td>110.000000</td>\n",
       "      <td>120.000000</td>\n",
       "      <td>140.000000</td>\n",
       "    </tr>\n",
       "    <tr>\n",
       "      <th>bp_diastolic_mm_hg</th>\n",
       "      <td>541.0</td>\n",
       "      <td>76.927911</td>\n",
       "      <td>5.574112</td>\n",
       "      <td>8.000000</td>\n",
       "      <td>70.000000</td>\n",
       "      <td>80.000000</td>\n",
       "      <td>80.000000</td>\n",
       "      <td>100.000000</td>\n",
       "    </tr>\n",
       "    <tr>\n",
       "      <th>follicle_no_l</th>\n",
       "      <td>541.0</td>\n",
       "      <td>6.129390</td>\n",
       "      <td>4.229294</td>\n",
       "      <td>0.000000</td>\n",
       "      <td>3.000000</td>\n",
       "      <td>5.000000</td>\n",
       "      <td>9.000000</td>\n",
       "      <td>22.000000</td>\n",
       "    </tr>\n",
       "    <tr>\n",
       "      <th>follicle_no_r</th>\n",
       "      <td>541.0</td>\n",
       "      <td>6.641405</td>\n",
       "      <td>4.436889</td>\n",
       "      <td>0.000000</td>\n",
       "      <td>3.000000</td>\n",
       "      <td>6.000000</td>\n",
       "      <td>10.000000</td>\n",
       "      <td>20.000000</td>\n",
       "    </tr>\n",
       "    <tr>\n",
       "      <th>avg_f_size_l_mm</th>\n",
       "      <td>541.0</td>\n",
       "      <td>15.018115</td>\n",
       "      <td>3.566839</td>\n",
       "      <td>0.000000</td>\n",
       "      <td>13.000000</td>\n",
       "      <td>15.000000</td>\n",
       "      <td>18.000000</td>\n",
       "      <td>24.000000</td>\n",
       "    </tr>\n",
       "    <tr>\n",
       "      <th>avg_f_size_r_mm</th>\n",
       "      <td>541.0</td>\n",
       "      <td>15.451701</td>\n",
       "      <td>3.318848</td>\n",
       "      <td>0.000000</td>\n",
       "      <td>13.000000</td>\n",
       "      <td>16.000000</td>\n",
       "      <td>18.000000</td>\n",
       "      <td>24.000000</td>\n",
       "    </tr>\n",
       "    <tr>\n",
       "      <th>endometrium_mm</th>\n",
       "      <td>541.0</td>\n",
       "      <td>8.475915</td>\n",
       "      <td>2.165381</td>\n",
       "      <td>0.000000</td>\n",
       "      <td>7.000000</td>\n",
       "      <td>8.500000</td>\n",
       "      <td>9.800000</td>\n",
       "      <td>18.000000</td>\n",
       "    </tr>\n",
       "    <tr>\n",
       "      <th>ii_beta_hcg_m_iu_m_l_y</th>\n",
       "      <td>541.0</td>\n",
       "      <td>238.229518</td>\n",
       "      <td>1603.826221</td>\n",
       "      <td>0.110417</td>\n",
       "      <td>1.990000</td>\n",
       "      <td>1.990000</td>\n",
       "      <td>97.630000</td>\n",
       "      <td>25000.000000</td>\n",
       "    </tr>\n",
       "  </tbody>\n",
       "</table>\n",
       "</div>"
      ],
      "text/plain": [
       "                        count        mean          std         min  \\\n",
       "sl_no                   541.0  271.000000   156.317519    1.000000   \n",
       "pcos_y_n_x              541.0    0.327172     0.469615    0.000000   \n",
       "age_yrs                 541.0   31.430684     5.411006   20.000000   \n",
       "weight_kg               541.0   59.637153    11.028287   31.000000   \n",
       "height_cm               541.0  156.484835     6.033545  137.000000   \n",
       "bmi                     541.0   24.311285     4.056399   12.417882   \n",
       "blood_group             541.0   13.802218     1.840812   11.000000   \n",
       "pulse_rate_bpm          541.0   73.247689     4.430285   13.000000   \n",
       "rr_breaths_min          541.0   19.243993     1.688629   16.000000   \n",
       "hb_g_dl                 541.0   11.160037     0.866904    8.500000   \n",
       "cycle_r_i               541.0    2.560074     0.901950    2.000000   \n",
       "cycle_length_days       541.0    4.940850     1.492020    0.000000   \n",
       "marraige_status_yrs     541.0    7.674122     4.801994    0.000000   \n",
       "pregnant_y_n            541.0    0.380776     0.486027    0.000000   \n",
       "no_of_aborptions        541.0    0.288355     0.692575    0.000000   \n",
       "i_beta_hcg_m_iu_m_l_x   541.0  664.549235  3348.920576    1.300000   \n",
       "fsh_m_iu_m_l            541.0   14.601832   217.022081    0.210000   \n",
       "lh_m_iu_m_l             541.0    6.469919    86.673255    0.020000   \n",
       "fsh_lh                  541.0    6.904831    60.691822    0.002146   \n",
       "hip_inch                541.0   37.992606     3.967920   26.000000   \n",
       "waist_inch              541.0   33.841035     3.596894   24.000000   \n",
       "waist_hip_ratio         541.0    0.891895     0.046326    0.755556   \n",
       "tsh_m_iu_l              541.0    2.981281     3.755532    0.040000   \n",
       "prl_ng_m_l              541.0   24.321497    14.970391    0.400000   \n",
       "vit_d_3_ng_m_l          541.0   49.915874   346.206599    0.000000   \n",
       "prg_ng_m_l              541.0    0.610945     3.808853    0.047000   \n",
       "rbs_mg_dl               541.0   99.835860    18.559298   60.000000   \n",
       "weight_gain_y_n         541.0    0.377079     0.485104    0.000000   \n",
       "hair_growth_y_n         541.0    0.273567     0.446202    0.000000   \n",
       "skin_darkening_y_n      541.0    0.306839     0.461609    0.000000   \n",
       "hair_loss_y_n           541.0    0.452865     0.498234    0.000000   \n",
       "pimples_y_n             541.0    0.489834     0.500359    0.000000   \n",
       "fast_food_y_n           541.0    0.515712     0.500216    0.000000   \n",
       "reg_exercise_y_n        541.0    0.247689     0.432070    0.000000   \n",
       "bp_systolic_mm_hg       541.0  114.661738     7.384556   12.000000   \n",
       "bp_diastolic_mm_hg      541.0   76.927911     5.574112    8.000000   \n",
       "follicle_no_l           541.0    6.129390     4.229294    0.000000   \n",
       "follicle_no_r           541.0    6.641405     4.436889    0.000000   \n",
       "avg_f_size_l_mm         541.0   15.018115     3.566839    0.000000   \n",
       "avg_f_size_r_mm         541.0   15.451701     3.318848    0.000000   \n",
       "endometrium_mm          541.0    8.475915     2.165381    0.000000   \n",
       "ii_beta_hcg_m_iu_m_l_y  541.0  238.229518  1603.826221    0.110417   \n",
       "\n",
       "                               25%         50%         75%           max  \n",
       "sl_no                   136.000000  271.000000  406.000000    541.000000  \n",
       "pcos_y_n_x                0.000000    0.000000    1.000000      1.000000  \n",
       "age_yrs                  28.000000   31.000000   35.000000     48.000000  \n",
       "weight_kg                52.000000   59.000000   65.000000    108.000000  \n",
       "height_cm               152.000000  156.000000  160.000000    180.000000  \n",
       "bmi                      21.641274   24.238227   26.634958     38.900000  \n",
       "blood_group              13.000000   14.000000   15.000000     18.000000  \n",
       "pulse_rate_bpm           72.000000   72.000000   74.000000     82.000000  \n",
       "rr_breaths_min           18.000000   18.000000   20.000000     28.000000  \n",
       "hb_g_dl                  10.500000   11.000000   11.700000     14.800000  \n",
       "cycle_r_i                 2.000000    2.000000    4.000000      5.000000  \n",
       "cycle_length_days         4.000000    5.000000    5.000000     12.000000  \n",
       "marraige_status_yrs       4.000000    7.000000   10.000000     30.000000  \n",
       "pregnant_y_n              0.000000    0.000000    1.000000      1.000000  \n",
       "no_of_aborptions          0.000000    0.000000    0.000000      5.000000  \n",
       "i_beta_hcg_m_iu_m_l_x     1.990000   20.000000  297.210000  32460.970000  \n",
       "fsh_m_iu_m_l              3.300000    4.850000    6.410000   5052.000000  \n",
       "lh_m_iu_m_l               1.020000    2.300000    3.680000   2018.000000  \n",
       "fsh_lh                    1.416244    2.169231    3.959184   1372.826087  \n",
       "hip_inch                 36.000000   38.000000   40.000000     48.000000  \n",
       "waist_inch               32.000000   34.000000   36.000000     47.000000  \n",
       "waist_hip_ratio           0.857143    0.894737    0.928571      0.979167  \n",
       "tsh_m_iu_l                1.480000    2.260000    3.570000     65.000000  \n",
       "prl_ng_m_l               14.520000   21.920000   29.890000    128.240000  \n",
       "vit_d_3_ng_m_l           20.800000   25.900000   34.500000   6014.660000  \n",
       "prg_ng_m_l                0.250000    0.320000    0.450000     85.000000  \n",
       "rbs_mg_dl                92.000000  100.000000  107.000000    350.000000  \n",
       "weight_gain_y_n           0.000000    0.000000    1.000000      1.000000  \n",
       "hair_growth_y_n           0.000000    0.000000    1.000000      1.000000  \n",
       "skin_darkening_y_n        0.000000    0.000000    1.000000      1.000000  \n",
       "hair_loss_y_n             0.000000    0.000000    1.000000      1.000000  \n",
       "pimples_y_n               0.000000    0.000000    1.000000      1.000000  \n",
       "fast_food_y_n             0.000000    1.000000    1.000000      1.000000  \n",
       "reg_exercise_y_n          0.000000    0.000000    0.000000      1.000000  \n",
       "bp_systolic_mm_hg       110.000000  110.000000  120.000000    140.000000  \n",
       "bp_diastolic_mm_hg       70.000000   80.000000   80.000000    100.000000  \n",
       "follicle_no_l             3.000000    5.000000    9.000000     22.000000  \n",
       "follicle_no_r             3.000000    6.000000   10.000000     20.000000  \n",
       "avg_f_size_l_mm          13.000000   15.000000   18.000000     24.000000  \n",
       "avg_f_size_r_mm          13.000000   16.000000   18.000000     24.000000  \n",
       "endometrium_mm            7.000000    8.500000    9.800000     18.000000  \n",
       "ii_beta_hcg_m_iu_m_l_y    1.990000    1.990000   97.630000  25000.000000  "
      ]
     },
     "execution_count": 15,
     "metadata": {},
     "output_type": "execute_result"
    }
   ],
   "source": [
    "pcos_clean.describe().T"
   ]
  },
  {
   "cell_type": "code",
   "execution_count": 16,
   "metadata": {},
   "outputs": [],
   "source": [
    "pcos_clean[\"cycle_r_i\"].value_counts()\n",
    "\n",
    "pcos_clean[\"cycle_r_i\"].replace(5, 4, inplace=True)"
   ]
  },
  {
   "cell_type": "code",
   "execution_count": 17,
   "metadata": {},
   "outputs": [
    {
     "data": {
      "text/plain": [
       "Index(['sl_no', 'pcos_y_n_x', 'age_yrs', 'weight_kg', 'height_cm', 'bmi',\n",
       "       'blood_group', 'pulse_rate_bpm', 'rr_breaths_min', 'hb_g_dl',\n",
       "       'cycle_r_i', 'cycle_length_days', 'marraige_status_yrs', 'pregnant_y_n',\n",
       "       'no_of_aborptions', 'i_beta_hcg_m_iu_m_l_x', 'fsh_m_iu_m_l',\n",
       "       'lh_m_iu_m_l', 'fsh_lh', 'hip_inch', 'waist_inch', 'waist_hip_ratio',\n",
       "       'tsh_m_iu_l', 'amh_ng_m_l_x', 'prl_ng_m_l', 'vit_d_3_ng_m_l',\n",
       "       'prg_ng_m_l', 'rbs_mg_dl', 'weight_gain_y_n', 'hair_growth_y_n',\n",
       "       'skin_darkening_y_n', 'hair_loss_y_n', 'pimples_y_n', 'fast_food_y_n',\n",
       "       'reg_exercise_y_n', 'bp_systolic_mm_hg', 'bp_diastolic_mm_hg',\n",
       "       'follicle_no_l', 'follicle_no_r', 'avg_f_size_l_mm', 'avg_f_size_r_mm',\n",
       "       'endometrium_mm', 'ii_beta_hcg_m_iu_m_l_y'],\n",
       "      dtype='object')"
      ]
     },
     "execution_count": 17,
     "metadata": {},
     "output_type": "execute_result"
    }
   ],
   "source": [
    "pcos_clean.columns"
   ]
  },
  {
   "cell_type": "code",
   "execution_count": 18,
   "metadata": {},
   "outputs": [],
   "source": [
    "# convert to category\n",
    "cat_cols = ['pcos_y_n_x','blood_group','cycle_r_i','pregnant_y_n','weight_gain_y_n',\n",
    "       'hair_growth_y_n', 'skin_darkening_y_n', 'hair_loss_y_n', 'pimples_y_n','fast_food_y_n', 'reg_exercise_y_n']\n",
    "\n",
    "for col in cat_cols:\n",
    "    pcos_clean[col] = pcos_clean[col].astype(\"category\")\n"
   ]
  },
  {
   "cell_type": "code",
   "execution_count": 19,
   "metadata": {},
   "outputs": [
    {
     "name": "stdout",
     "output_type": "stream",
     "text": [
      "<class 'pandas.core.frame.DataFrame'>\n",
      "Int64Index: 541 entries, 0 to 540\n",
      "Data columns (total 43 columns):\n",
      " #   Column                  Non-Null Count  Dtype   \n",
      "---  ------                  --------------  -----   \n",
      " 0   sl_no                   541 non-null    int64   \n",
      " 1   pcos_y_n_x              541 non-null    category\n",
      " 2   age_yrs                 541 non-null    int64   \n",
      " 3   weight_kg               541 non-null    float64 \n",
      " 4   height_cm               541 non-null    float64 \n",
      " 5   bmi                     541 non-null    float64 \n",
      " 6   blood_group             541 non-null    category\n",
      " 7   pulse_rate_bpm          541 non-null    int64   \n",
      " 8   rr_breaths_min          541 non-null    int64   \n",
      " 9   hb_g_dl                 541 non-null    float64 \n",
      " 10  cycle_r_i               541 non-null    category\n",
      " 11  cycle_length_days       541 non-null    int64   \n",
      " 12  marraige_status_yrs     541 non-null    float64 \n",
      " 13  pregnant_y_n            541 non-null    category\n",
      " 14  no_of_aborptions        541 non-null    int64   \n",
      " 15  i_beta_hcg_m_iu_m_l_x   541 non-null    float64 \n",
      " 16  fsh_m_iu_m_l            541 non-null    float64 \n",
      " 17  lh_m_iu_m_l             541 non-null    float64 \n",
      " 18  fsh_lh                  541 non-null    float64 \n",
      " 19  hip_inch                541 non-null    int64   \n",
      " 20  waist_inch              541 non-null    int64   \n",
      " 21  waist_hip_ratio         541 non-null    float64 \n",
      " 22  tsh_m_iu_l              541 non-null    float64 \n",
      " 23  amh_ng_m_l_x            541 non-null    object  \n",
      " 24  prl_ng_m_l              541 non-null    float64 \n",
      " 25  vit_d_3_ng_m_l          541 non-null    float64 \n",
      " 26  prg_ng_m_l              541 non-null    float64 \n",
      " 27  rbs_mg_dl               541 non-null    float64 \n",
      " 28  weight_gain_y_n         541 non-null    category\n",
      " 29  hair_growth_y_n         541 non-null    category\n",
      " 30  skin_darkening_y_n      541 non-null    category\n",
      " 31  hair_loss_y_n           541 non-null    category\n",
      " 32  pimples_y_n             541 non-null    category\n",
      " 33  fast_food_y_n           541 non-null    category\n",
      " 34  reg_exercise_y_n        541 non-null    category\n",
      " 35  bp_systolic_mm_hg       541 non-null    int64   \n",
      " 36  bp_diastolic_mm_hg      541 non-null    int64   \n",
      " 37  follicle_no_l           541 non-null    int64   \n",
      " 38  follicle_no_r           541 non-null    int64   \n",
      " 39  avg_f_size_l_mm         541 non-null    float64 \n",
      " 40  avg_f_size_r_mm         541 non-null    float64 \n",
      " 41  endometrium_mm          541 non-null    float64 \n",
      " 42  ii_beta_hcg_m_iu_m_l_y  541 non-null    float64 \n",
      "dtypes: category(11), float64(19), int64(12), object(1)\n",
      "memory usage: 146.9+ KB\n"
     ]
    }
   ],
   "source": [
    "pcos_clean.info()"
   ]
  },
  {
   "cell_type": "markdown",
   "metadata": {},
   "source": [
    "### EDA\n",
    "\n",
    "Questions to Answer\n",
    "\n",
    "What are the factors associated with PCOS?\n",
    "\n",
    "* Lifestyle - Exercise, Fast Foods and BMI.\n",
    "* Secondary - Hip to waist ration, regular cycles and cycle lenght, hirsuitism and acne, Weight gain, Blood Pressure.\n",
    "* Primary - No of follicles and follicle size, FSH and  LH, HCG Levels(Human Chronic Gonadritophic),TSH(Thyroid Stimulating Hormone),AMH(Anti Mullerina Hormone),High Prolactin, Random Blood Sugar(RBS)\n",
    "\n",
    "* Hypo or Hyperthyroidism can affect both FSH,lh and Prolactin, Affect Insulin Sensitivity"
   ]
  },
  {
   "cell_type": "markdown",
   "metadata": {},
   "source": [
    "* There are Primary and Secondary syptoms that are used to diagnose patients with PCOS. I will explore the primary and secondary syptoms as well as the lifestyle of patients in this study"
   ]
  },
  {
   "cell_type": "code",
   "execution_count": 20,
   "metadata": {},
   "outputs": [],
   "source": [
    "#lifestyle\n",
    "lstly =  pcos_clean[[\"fast_food_y_n\",\"reg_exercise_y_n\",\"pcos_y_n_x\",\"bmi\",\"age_yrs\"]]\n",
    "\n",
    "#primary\n",
    "sec_stmp = pcos_clean[['cycle_r_i', 'cycle_length_days','pregnant_y_n','waist_hip_ratio','hair_growth_y_n',\n",
    "           'skin_darkening_y_n', 'hair_loss_y_n', 'pimples_y_n','pcos_y_n_x']]\n",
    "\n",
    "#secondary\n",
    "prmy_stmp = pcos_clean[['blood_group','i_beta_hcg_m_iu_m_l_x', 'ii_beta_hcg_m_iu_m_l_y','fsh_lh','tsh_m_iu_l', 'amh_ng_m_l_x', 'prl_ng_m_l',\n",
    "                            'vit_d_3_ng_m_l', 'prg_ng_m_l', 'rbs_mg_dl','bp_systolic_mm_hg','bp_diastolic_mm_hg', 'follicle_no_l',\n",
    "                             'follicle_no_r','avg_f_size_l_mm', 'avg_f_size_r_mm', 'endometrium_mm','pcos_y_n_x']]\n",
    "\n",
    "                      "
   ]
  },
  {
   "cell_type": "markdown",
   "metadata": {},
   "source": [
    "##### Lifestyle"
   ]
  },
  {
   "cell_type": "code",
   "execution_count": 21,
   "metadata": {},
   "outputs": [
    {
     "data": {
      "text/plain": [
       "Index(['fast_food_y_n', 'reg_exercise_y_n', 'pcos_y_n_x', 'bmi', 'age_yrs'], dtype='object')"
      ]
     },
     "execution_count": 21,
     "metadata": {},
     "output_type": "execute_result"
    }
   ],
   "source": [
    "lstly.columns"
   ]
  },
  {
   "cell_type": "code",
   "execution_count": 22,
   "metadata": {},
   "outputs": [
    {
     "data": {
      "text/plain": [
       "<seaborn.axisgrid.FacetGrid at 0x1e2be2d05b0>"
      ]
     },
     "execution_count": 22,
     "metadata": {},
     "output_type": "execute_result"
    },
    {
     "data": {
      "image/png": "[encoded data removed]",
      "text/plain": [
       "<Figure size 432x432 with 4 Axes>"
      ]
     },
     "metadata": {},
     "output_type": "display_data"
    }
   ],
   "source": [
    "#lstly.groupby([\"fast_food_y_n\",\"reg_exercise_y_n\",\"pcos_y_n_x\"], as_index=False).size().sort_values(by = \"size\",ascending = False)\n",
    "\n",
    "g1 = sns.FacetGrid(lstly, row = \"fast_food_y_n\", col = \"reg_exercise_y_n\",hue = \"pcos_y_n_x\",margin_titles=True)\n",
    "g1.map(sns.countplot, \"pcos_y_n_x\", order = [0,1])\n",
    "g1.set_axis_labels(\"Regular Exercise\", \"Fast Foods\")\n"
   ]
  },
  {
   "cell_type": "markdown",
   "metadata": {},
   "source": [
    "* Diagnosed with PCOS - $33.73\\%$ : \n",
    "* Is diet a predictor in PCOS?.Individuals who do not take fast foods and do not exercise regularyly and do not have PCOS are six time individuals that have PCOS.\n",
    "* Health vs PCOS individuals numbers not significantly different in the group that does not exercise regularly and take fast food.The same similarrity is witnessed in the geoup that exercie regularly but take fast foods, however individuals in this group are twice the number in the former.\n"
   ]
  },
  {
   "cell_type": "code",
   "execution_count": 23,
   "metadata": {},
   "outputs": [
    {
     "data": {
      "text/plain": [
       "Text(0.5, 1.0, 'BMI Distribution')"
      ]
     },
     "execution_count": 23,
     "metadata": {},
     "output_type": "execute_result"
    },
    {
     "data": {
      "image/png": "[encoded data removed]",
      "text/plain": [
       "<Figure size 432x288 with 1 Axes>"
      ]
     },
     "metadata": {},
     "output_type": "display_data"
    }
   ],
   "source": [
    "#bmi and pcos\n",
    "sns.histplot(x = \"bmi\", hue = \"pcos_y_n_x\",data = lstly, palette=\"viridis\")\n",
    "plt.title(\"BMI Distribution\")"
   ]
  },
  {
   "cell_type": "markdown",
   "metadata": {},
   "source": [
    "*Distribution on BMI is approximately normal. Most of the women that participated in the study were of normal weight"
   ]
  },
  {
   "cell_type": "code",
   "execution_count": 24,
   "metadata": {},
   "outputs": [
    {
     "data": {
      "text/plain": [
       "Text(0.5, 1.0, 'BMI and PCOS')"
      ]
     },
     "execution_count": 24,
     "metadata": {},
     "output_type": "execute_result"
    },
    {
     "data": {
      "image/png": "[encoded data removed]",
      "text/plain": [
       "<Figure size 432x288 with 1 Axes>"
      ]
     },
     "metadata": {},
     "output_type": "display_data"
    }
   ],
   "source": [
    "sns.boxplot(data = lstly, x = \"pcos_y_n_x\", y = \"bmi\")\n",
    "plt.title(\"BMI and PCOS\")"
   ]
  },
  {
   "cell_type": "markdown",
   "metadata": {},
   "source": [
    "* On average, the BMI of individuals with pcos is higher than that of those who do not have pcos.\n",
    "* We have both overweight and underweight individuals for both the categories with individuals with no pcos having a higher BMI margin comparede to those diagnosed with PCOS"
   ]
  },
  {
   "cell_type": "code",
   "execution_count": 25,
   "metadata": {},
   "outputs": [
    {
     "data": {
      "text/plain": [
       "<seaborn.axisgrid.FacetGrid at 0x1e2c0540ac0>"
      ]
     },
     "execution_count": 25,
     "metadata": {},
     "output_type": "execute_result"
    },
    {
     "data": {
      "image/png": "[encoded data removed]",
      "text/plain": [
       "<Figure size 432x216 with 2 Axes>"
      ]
     },
     "metadata": {},
     "output_type": "display_data"
    }
   ],
   "source": [
    "g2 = sns.FacetGrid(lstly, col = \"reg_exercise_y_n\",margin_titles=True)\n",
    "g2.map(sns.boxplot, \"pcos_y_n_x\", \"bmi\", order = [0,1])\n",
    "g2.set_axis_labels(\"PCOS\", \"BMI\")"
   ]
  },
  {
   "cell_type": "markdown",
   "metadata": {},
   "source": [
    "* On Average, the BMI of individuals who exercise regularly is lower for both PCOS and healthy individuals compared to those who do not exercise.There is also a lower margin in BMI fot individuals who exercise regularly compared to those who do not."
   ]
  },
  {
   "cell_type": "markdown",
   "metadata": {},
   "source": [
    "#### Secondary"
   ]
  },
  {
   "cell_type": "code",
   "execution_count": 26,
   "metadata": {},
   "outputs": [
    {
     "data": {
      "text/plain": [
       "<seaborn.axisgrid.FacetGrid at 0x1e2c04b1be0>"
      ]
     },
     "execution_count": 26,
     "metadata": {},
     "output_type": "execute_result"
    },
    {
     "data": {
      "image/png": "[encoded data removed]",
      "text/plain": [
       "<Figure size 432x432 with 4 Axes>"
      ]
     },
     "metadata": {},
     "output_type": "display_data"
    }
   ],
   "source": [
    "g3 = sns.FacetGrid(sec_stmp, col = \"pcos_y_n_x\", row = \"pregnant_y_n\",margin_titles=True)\n",
    "g3.map(sns.boxplot, \"cycle_r_i\", \"cycle_length_days\",order = [2,4])\n",
    "g3.set_axis_labels(\"Cycle\",\"Cycle Days\")"
   ]
  },
  {
   "cell_type": "markdown",
   "metadata": {},
   "source": [
    "* cycle length days for healty individuals who have not been pregant is skewed to the left with individuals with an irregular cycle having a large range. FOr customers who have been pregnant before, on average cycle days for healthy individuals with irregular cycle is lower than that pg those who have a regular cycle\n"
   ]
  },
  {
   "cell_type": "code",
   "execution_count": 27,
   "metadata": {},
   "outputs": [
    {
     "data": {
      "text/plain": [
       "<seaborn.axisgrid.FacetGrid at 0x1e2c187af70>"
      ]
     },
     "execution_count": 27,
     "metadata": {},
     "output_type": "execute_result"
    },
    {
     "data": {
      "image/png": "[encoded data removed]",
      "text/plain": [
       "<Figure size 432x432 with 4 Axes>"
      ]
     },
     "metadata": {},
     "output_type": "display_data"
    }
   ],
   "source": [
    "g4 = sns.FacetGrid(sec_stmp, col = \"pimples_y_n\", row = \"skin_darkening_y_n\", hue = \"hair_growth_y_n\",margin_titles=True)\n",
    "g4.map(sns.countplot,\"pcos_y_n_x\",order = [0,1])\n",
    "g4.set_axis_labels(\"PCOS\",\"Count\")"
   ]
  },
  {
   "cell_type": "markdown",
   "metadata": {},
   "source": [
    "* Healthy patients are nine times the number of individuals who have not had pimples or skin darkening.\n",
    "* Of individuals with pcos,a third of the individuals experienced skin darkening and pimples."
   ]
  },
  {
   "cell_type": "markdown",
   "metadata": {},
   "source": [
    "#### Primary Symptoms"
   ]
  },
  {
   "cell_type": "code",
   "execution_count": 28,
   "metadata": {},
   "outputs": [
    {
     "data": {
      "text/plain": [
       "<seaborn.axisgrid.FacetGrid at 0x1e2c19ab6a0>"
      ]
     },
     "execution_count": 28,
     "metadata": {},
     "output_type": "execute_result"
    },
    {
     "data": {
      "image/png": "[encoded data removed]",
      "text/plain": [
       "<Figure size 432.55x360 with 1 Axes>"
      ]
     },
     "metadata": {},
     "output_type": "display_data"
    }
   ],
   "source": [
    "sns.catplot(data = prmy_stmp, x = \"blood_group\", hue = \"pcos_y_n_x\", kind = \"count\")\n",
    "#A+ = 11,A- = 12,B+ = 13,B- = 14,O+ =15,O- = 16,AB+ =17,AB- = 18\t\t\t\n"
   ]
  },
  {
   "cell_type": "markdown",
   "metadata": {},
   "source": [
    "* Individuals with 0+ and B+ account for 63% of patients"
   ]
  },
  {
   "cell_type": "code",
   "execution_count": 29,
   "metadata": {},
   "outputs": [
    {
     "name": "stdout",
     "output_type": "stream",
     "text": [
      "<class 'pandas.core.frame.DataFrame'>\n",
      "Int64Index: 541 entries, 0 to 540\n",
      "Data columns (total 18 columns):\n",
      " #   Column                  Non-Null Count  Dtype   \n",
      "---  ------                  --------------  -----   \n",
      " 0   blood_group             541 non-null    category\n",
      " 1   i_beta_hcg_m_iu_m_l_x   541 non-null    float64 \n",
      " 2   ii_beta_hcg_m_iu_m_l_y  541 non-null    float64 \n",
      " 3   fsh_lh                  541 non-null    float64 \n",
      " 4   tsh_m_iu_l              541 non-null    float64 \n",
      " 5   amh_ng_m_l_x            541 non-null    object  \n",
      " 6   prl_ng_m_l              541 non-null    float64 \n",
      " 7   vit_d_3_ng_m_l          541 non-null    float64 \n",
      " 8   prg_ng_m_l              541 non-null    float64 \n",
      " 9   rbs_mg_dl               541 non-null    float64 \n",
      " 10  bp_systolic_mm_hg       541 non-null    int64   \n",
      " 11  bp_diastolic_mm_hg      541 non-null    int64   \n",
      " 12  follicle_no_l           541 non-null    int64   \n",
      " 13  follicle_no_r           541 non-null    int64   \n",
      " 14  avg_f_size_l_mm         541 non-null    float64 \n",
      " 15  avg_f_size_r_mm         541 non-null    float64 \n",
      " 16  endometrium_mm          541 non-null    float64 \n",
      " 17  pcos_y_n_x              541 non-null    category\n",
      "dtypes: category(2), float64(11), int64(4), object(1)\n",
      "memory usage: 73.4+ KB\n"
     ]
    }
   ],
   "source": [
    "prmy_stmp.info()"
   ]
  },
  {
   "cell_type": "code",
   "execution_count": 30,
   "metadata": {},
   "outputs": [
    {
     "data": {
      "image/png": "[encoded data removed]",
      "text/plain": [
       "<Figure size 1080x720 with 16 Axes>"
      ]
     },
     "metadata": {},
     "output_type": "display_data"
    }
   ],
   "source": [
    "prmy_stmp.hist(bins = 10, figsize = (15,10), layout = (-1,4))\n",
    "plt.tight_layout()"
   ]
  },
  {
   "cell_type": "markdown",
   "metadata": {},
   "source": [
    "* Levels of the Human Chorionic Gonadotropin(HCG) Hormone are significantly low, very close to zero.\n",
    "* The ratio of FSH to LH is also close to zero. This is because range for healthy women is between 1 and 2 and 3-8 for women with PCOS.\n",
    "* Levels of Testesterone Stimulating Hormone(TSH) are less that 25(mIu/ml).There are therfore individuals with very high testesterone levels.\n",
    "* Prolactin levels are skewed to the right.For healthy women the normal range 25ng/ml or less.\n",
    "* Levels of vitamin D3 are so close to zero.\n",
    "* Projesterone lecels are significantly low, very close to zero.\n",
    "* Resting blood sugar levels are skewed to the right.\n",
    "* Systolic and Diastolic blood pressure are within the normal ranges\n",
    "* Number of follicles on both the left and right ovaries are skewed to the right.More than 12 indicate PCOS.\n",
    "* Follicle sizes are skewed to the left. Sizes of the follicles are larger than normal range (6-9)mm\n",
    "* The endometrium is thicker for most of participants in the study"
   ]
  },
  {
   "cell_type": "code",
   "execution_count": 31,
   "metadata": {},
   "outputs": [
    {
     "data": {
      "text/plain": [
       "<seaborn.axisgrid.PairGrid at 0x1e2c2373f70>"
      ]
     },
     "execution_count": 31,
     "metadata": {},
     "output_type": "execute_result"
    },
    {
     "data": {
      "image/png": "[encoded data removed]",
      "text/plain": [
       "<Figure size 1440x180 with 8 Axes>"
      ]
     },
     "metadata": {},
     "output_type": "display_data"
    }
   ],
   "source": [
    "g5 = sns.PairGrid(prmy_stmp, y_vars = [\"pcos_y_n_x\"], x_vars=['i_beta_hcg_m_iu_m_l_x', 'ii_beta_hcg_m_iu_m_l_y','fsh_lh', 'tsh_m_iu_l', \n",
    "                    'prl_ng_m_l', 'vit_d_3_ng_m_l','prg_ng_m_l', 'rbs_mg_dl'],hue = \"pcos_y_n_x\")\n",
    "g5.map(sns.boxplot)                  "
   ]
  },
  {
   "cell_type": "markdown",
   "metadata": {},
   "source": [
    "* Data present is skewed."
   ]
  },
  {
   "cell_type": "code",
   "execution_count": 34,
   "metadata": {},
   "outputs": [],
   "source": [
    "pcos_clean[\"no_follicle\"] = pcos_clean[\"follicle_no_r\"] + pcos_clean[\"follicle_no_l\"]\n",
    "pcos_clean[\"average_f_size_mm\"] = np.average([[pcos_clean[\"avg_f_size_r_mm\"]+pcos_clean[\"avg_f_size_l_mm\"]]])"
   ]
  },
  {
   "cell_type": "code",
   "execution_count": 36,
   "metadata": {},
   "outputs": [],
   "source": [
    "rmv_cols = ['sl_no','age_yrs', 'weight_kg', 'height_cm','marraige_status_yrs','pulse_rate_bpm', 'rr_breaths_min','no_of_aborptions',\n",
    "'lh_m_iu_m_l', 'fsh_lh', 'hip_inch', 'waist_inch', 'waist_hip_ratio','amh_ng_m_l_x','bp_systolic_mm_hg', 'bp_diastolic_mm_hg',\n",
    "'follicle_no_l', 'follicle_no_r', 'avg_f_size_l_mm', 'avg_f_size_r_mm']\n",
    "\n",
    "pcos_clean.drop(rmv_cols, axis = 1,inplace = True)"
   ]
  },
  {
   "cell_type": "code",
   "execution_count": 37,
   "metadata": {},
   "outputs": [
    {
     "data": {
      "text/plain": [
       "Index(['pcos_y_n_x', 'bmi', 'blood_group', 'hb_g_dl', 'cycle_r_i',\n",
       "       'cycle_length_days', 'pregnant_y_n', 'i_beta_hcg_m_iu_m_l_x',\n",
       "       'fsh_m_iu_m_l', 'tsh_m_iu_l', 'prl_ng_m_l', 'vit_d_3_ng_m_l',\n",
       "       'prg_ng_m_l', 'rbs_mg_dl', 'weight_gain_y_n', 'hair_growth_y_n',\n",
       "       'skin_darkening_y_n', 'hair_loss_y_n', 'pimples_y_n', 'fast_food_y_n',\n",
       "       'reg_exercise_y_n', 'endometrium_mm', 'ii_beta_hcg_m_iu_m_l_y',\n",
       "       'no_follicle', 'average_f_size_mm'],\n",
       "      dtype='object')"
      ]
     },
     "execution_count": 37,
     "metadata": {},
     "output_type": "execute_result"
    }
   ],
   "source": [
    "pcos_clean.columns"
   ]
  },
  {
   "cell_type": "code",
   "execution_count": 38,
   "metadata": {},
   "outputs": [
    {
     "name": "stdout",
     "output_type": "stream",
     "text": [
      "<class 'pandas.core.frame.DataFrame'>\n",
      "Int64Index: 541 entries, 0 to 540\n",
      "Data columns (total 25 columns):\n",
      " #   Column                  Non-Null Count  Dtype   \n",
      "---  ------                  --------------  -----   \n",
      " 0   pcos_y_n_x              541 non-null    category\n",
      " 1   bmi                     541 non-null    float64 \n",
      " 2   blood_group             541 non-null    category\n",
      " 3   hb_g_dl                 541 non-null    float64 \n",
      " 4   cycle_r_i               541 non-null    category\n",
      " 5   cycle_length_days       541 non-null    int64   \n",
      " 6   pregnant_y_n            541 non-null    category\n",
      " 7   i_beta_hcg_m_iu_m_l_x   541 non-null    float64 \n",
      " 8   fsh_m_iu_m_l            541 non-null    float64 \n",
      " 9   tsh_m_iu_l              541 non-null    float64 \n",
      " 10  prl_ng_m_l              541 non-null    float64 \n",
      " 11  vit_d_3_ng_m_l          541 non-null    float64 \n",
      " 12  prg_ng_m_l              541 non-null    float64 \n",
      " 13  rbs_mg_dl               541 non-null    float64 \n",
      " 14  weight_gain_y_n         541 non-null    category\n",
      " 15  hair_growth_y_n         541 non-null    category\n",
      " 16  skin_darkening_y_n      541 non-null    category\n",
      " 17  hair_loss_y_n           541 non-null    category\n",
      " 18  pimples_y_n             541 non-null    category\n",
      " 19  fast_food_y_n           541 non-null    category\n",
      " 20  reg_exercise_y_n        541 non-null    category\n",
      " 21  endometrium_mm          541 non-null    float64 \n",
      " 22  ii_beta_hcg_m_iu_m_l_y  541 non-null    float64 \n",
      " 23  no_follicle             541 non-null    int64   \n",
      " 24  average_f_size_mm       541 non-null    float64 \n",
      "dtypes: category(11), float64(12), int64(2)\n",
      "memory usage: 70.8 KB\n"
     ]
    }
   ],
   "source": [
    "pcos_clean.info()"
   ]
  },
  {
   "cell_type": "code",
   "execution_count": 45,
   "metadata": {},
   "outputs": [
    {
     "data": {
      "text/plain": [
       "<AxesSubplot:>"
      ]
     },
     "execution_count": 45,
     "metadata": {},
     "output_type": "execute_result"
    },
    {
     "data": {
      "image/png": "[encoded data removed]",
      "text/plain": [
       "<Figure size 432x288 with 2 Axes>"
      ]
     },
     "metadata": {},
     "output_type": "display_data"
    }
   ],
   "source": [
    "# Correlation plot\n",
    "\n",
    "sns.heatmap(pcos_clean.corr(), annot = True, linewidth = .5)"
   ]
  },
  {
   "cell_type": "markdown",
   "metadata": {},
   "source": [
    "### Modelling"
   ]
  },
  {
   "cell_type": "markdown",
   "metadata": {},
   "source": [
    "##### Feature Engineering"
   ]
  }
 ],
 "metadata": {
  "kernelspec": {
   "display_name": "Python 3.9.2 64-bit",
   "language": "python",
   "name": "python3"
  },
  "language_info": {
   "codemirror_mode": {
    "name": "ipython",
    "version": 3
   },
   "file_extension": ".py",
   "mimetype": "text/x-python",
   "name": "python",
   "nbconvert_exporter": "python",
   "pygments_lexer": "ipython3",
   "version": "3.9.2"
  },
  "orig_nbformat": 4,
  "vscode": {
   "interpreter": {
    "hash": "4670e29604ef7ae82bac19799b4f3c3682ccb501181ac2195d4dee2432a2fdf7"
   }
  }
 },
 "nbformat": 4,
 "nbformat_minor": 2
}
